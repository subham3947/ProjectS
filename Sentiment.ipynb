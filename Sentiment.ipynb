{
 "cells": [
  {
   "cell_type": "code",
   "execution_count": 1,
   "metadata": {
    "collapsed": true
   },
   "outputs": [],
   "source": [
    "import nltk.classify.util\n",
    "from nltk.classify import NaiveBayesClassifier\n",
    "from nltk.corpus import movie_reviews\n",
    "from nltk.tokenize import word_tokenize\n",
    "from newspaper import Article\n",
    "from nltk.corpus import stopwords\n",
    "from nltk.tokenize import word_tokenize\n",
    "from nltk.tokenize import sent_tokenize\n",
    "import random"
   ]
  },
  {
   "cell_type": "code",
   "execution_count": 3,
   "metadata": {
    "collapsed": true
   },
   "outputs": [],
   "source": [
    "#for creating features\n",
    "def word_feats(words):\n",
    "    return dict([(word, True) for word in words])"
   ]
  },
  {
   "cell_type": "code",
   "execution_count": 4,
   "metadata": {
    "collapsed": true
   },
   "outputs": [],
   "source": [
    "negids = movie_reviews.fileids('neg')  #file names with negative reviews\n",
    "posids = movie_reviews.fileids('pos')  #file names with positive reviews\n",
    "\n",
    "negfeats = [(word_feats(movie_reviews.words(fileids=[f])), 'neg') for f in negids]  #word features for all negative reviews\n",
    "posfeats = [(word_feats(movie_reviews.words(fileids=[f])), 'pos') for f in posids]  #word features for all positive reviews"
   ]
  },
  {
   "cell_type": "code",
   "execution_count": 5,
   "metadata": {},
   "outputs": [
    {
     "name": "stdout",
     "output_type": "stream",
     "text": [
      "train on 1500 instances, test on 500 instances\n"
     ]
    }
   ],
   "source": [
    "negcutoff = int(len(negfeats)*3/4)  #3/4 of the negative features will be used for training\n",
    "poscutoff = int(len(posfeats)*3/4)  #3/4 of the positive features will be used for training\n",
    " \n",
    "trainfeats = negfeats[:negcutoff] + posfeats[:poscutoff]  #training features\n",
    "testfeats = negfeats[negcutoff:] + posfeats[poscutoff:]   #testing features\n",
    "random.shuffle(trainfeats)\n",
    "random.shuffle(testfeats)\n",
    "print('train on %d instances, test on %d instances' % (len(trainfeats), len(testfeats)))"
   ]
  },
  {
   "cell_type": "code",
   "execution_count": 9,
   "metadata": {},
   "outputs": [
    {
     "name": "stdout",
     "output_type": "stream",
     "text": [
      "accuracy: 0.728\n",
      "Most Informative Features\n",
      "             magnificent = True              pos : neg    =     15.0 : 1.0\n",
      "             outstanding = True              pos : neg    =     13.6 : 1.0\n",
      "               insulting = True              neg : pos    =     13.0 : 1.0\n",
      "              vulnerable = True              pos : neg    =     12.3 : 1.0\n",
      "               ludicrous = True              neg : pos    =     11.8 : 1.0\n",
      "                  avoids = True              pos : neg    =     11.7 : 1.0\n",
      "             uninvolving = True              neg : pos    =     11.7 : 1.0\n",
      "             fascination = True              pos : neg    =     10.3 : 1.0\n",
      "              astounding = True              pos : neg    =     10.3 : 1.0\n",
      "                 idiotic = True              neg : pos    =      9.8 : 1.0\n"
     ]
    }
   ],
   "source": [
    "classifier = NaiveBayesClassifier.train(trainfeats)\n",
    "print('accuracy:', nltk.classify.util.accuracy(classifier, testfeats))\n",
    "classifier.show_most_informative_features()\n"
   ]
  },
  {
   "cell_type": "code",
   "execution_count": 10,
   "metadata": {},
   "outputs": [
    {
     "data": {
      "text/plain": [
       "'pos'"
      ]
     },
     "execution_count": 10,
     "metadata": {},
     "output_type": "execute_result"
    }
   ],
   "source": [
    "doc='''stallone attempts to 'act' in this cop drama . \n",
    "the film is set in a neighbourhood pratically built by kietal , who's nephew ( played by michael rappaport ) is involved in a car crash and killing of two black youths . \n",
    "keital dosen't really want to get involved in anything , gets rid of rappaport , and stallone and de niro try to work out what the hell is going on . \n",
    "this film should be brilliant . \n",
    "it sounds like a great plot , the actors are first grade , and the supporting cast is good aswell , and stallone is attempting to deliver a good performance . \n",
    "however , it can't hold up . \n",
    "although the acting is fantastic ( even stallone isn't bad ) the directing and story is dull and long winded \n",
    "some scenes go on for too long , with nothing really happening in them . \n",
    "in fact , the only scenes that do work are action scenes , which i suspect stallone was trying to avoid . \n",
    "in this film , serious means dull . \n",
    "the dialogue is warbling , and basically just repeats the same points over and over , no matter who is delivering them . \n",
    "the plot , which has potential , is wasted , again just being cliched after a while . \n",
    "in fact , the only thing that does keep the film going is kietal and de niro , both delivering their usual good performances . \n",
    "however , stallone , although not given much to say , gives a good performance . \n",
    "however , it's not all that bad . \n",
    "as said above , the action scenes are well done . \n",
    "theres also a very good ending , which uses the cinemas sound system well . \n",
    "in fact , the last 10 minutes of this 2 hour film are one of the best endings of 1997 . \n",
    "if only the rest of the film was as good as the ending . \n",
    "cop land , then , turns out not to be a power house film , but a rather dull , and not every exciting film . \n",
    "hugely disappointing , and i can't really recommend it . '''\n",
    "negfeat = word_feats(word_tokenize(doc))\n",
    "classifier.classify(negfeat)"
   ]
  },
  {
   "cell_type": "code",
   "execution_count": 44,
   "metadata": {},
   "outputs": [
    {
     "name": "stdout",
     "output_type": "stream",
     "text": [
      "pos\n"
     ]
    }
   ],
   "source": [
    "article = Article(\"https://economictimes.indiatimes.com/news/politics-and-nation/gst-gives-a-shot-in-the-arm-to-personal-weapons-industry/articleshow/59535817.cms\",language='en')\n",
    "article.download()\n",
    "article.parse()\n",
    "doc = word_tokenize(article.text.lower())\n",
    "#featurized_doc = {c:True for c in article.text.split()}\n",
    "#featurized_doc = {c:True for c in Text.split()}\n",
    "featurized_doc=word_feats(word_tokenize(Text))\n",
    "tagged_label = classifier.classify(featurized_doc)\n",
    "print(tagged_label)"
   ]
  },
  {
   "cell_type": "code",
   "execution_count": null,
   "metadata": {
    "collapsed": true
   },
   "outputs": [],
   "source": []
  },
  {
   "cell_type": "code",
   "execution_count": null,
   "metadata": {
    "collapsed": true
   },
   "outputs": [],
   "source": []
  }
 ],
 "metadata": {
  "kernelspec": {
   "display_name": "Python 3",
   "language": "python",
   "name": "python3"
  },
  "language_info": {
   "codemirror_mode": {
    "name": "ipython",
    "version": 3
   },
   "file_extension": ".py",
   "mimetype": "text/x-python",
   "name": "python",
   "nbconvert_exporter": "python",
   "pygments_lexer": "ipython3",
   "version": "3.6.1"
  }
 },
 "nbformat": 4,
 "nbformat_minor": 2
}
