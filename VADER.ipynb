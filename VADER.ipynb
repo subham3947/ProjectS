{
 "cells": [
  {
   "cell_type": "code",
   "execution_count": 5,
   "metadata": {
    "collapsed": true
   },
   "outputs": [],
   "source": [
    "import nltk\n",
    "from nltk.tokenize import sent_tokenize"
   ]
  },
  {
   "cell_type": "code",
   "execution_count": 9,
   "metadata": {},
   "outputs": [
    {
     "name": "stdout",
     "output_type": "stream",
     "text": [
      "-0.0567421052631579\n"
     ]
    }
   ],
   "source": [
    "sid = SentimentIntensityAnalyzer()\n",
    "doc = '''With the Goods and Services Tax (GST) Council initiated a major revamp of the indirect tax regime, the small industrialists in Punjab have expressed their unhappiness over the dual system of returns. They said the government has introduced a dual tax return filing system which is apparently not benefiting the traders.\n",
    "\n",
    "The traders having turnover of Rs 1.50 Crore or above are required to file their tax returns in one month while those who are having turnover less than Rs 1.50 Crore are required to file tax returns quarterly.\n",
    "\n",
    "The traders in the state have demanded a single system for filing of tax returns. “It is still creating the confusion as the input tax credit will vary from trader to trader. The buyers will avoid purchasing the material from small units as they would not be able to take the input tax credit from them on a monthly basis. A single system for all traders to file returns quarterly basis should have been introduced,” Punjab’s small and medium industry association president, Badish K Jindal told The Statesman.\n",
    "\n",
    "He also said that the construction sector is still under 28 per cent GST limits. “It is causing huge tax evasions. The enhancement of composite scheme is useless as the buyer requires to pay the tax to such dealers, but they cannot claim the same from their buyers,” he claimed.\n",
    "\n",
    "Similarly, president of Small Scale Industries and Traders Association in Punjab, Rajinder Singh said that GST will destroy the small and informal industry. “How we will be able to take the refund from our clients as they will be paying tax under a different slabs up to 28 per cent. Most of the small traders use to maintain manual bills. Codes of various items under GST are different. It is very confusing and tedious to implement in the business,” he said.\n",
    "\n",
    "Sources in the state excise and tax department said that the new tax regime has proved a cumbersome process for the traders. Over 25,000 traders are yet to be register under the new tax system in Punjab.\n",
    "\n",
    "In it’s recent meeting, the GST Council has decided to allow tax payers with Rs 1.5 Crore to file quarterly returns and at the same time increased the threshold for composition scheme to Rs One Crore from the present Rs 75 lakh.\n",
    "\n",
    "It also exempted exporters from payment of tax under various promotion schemes, deferred implementation of the tax deduction at source and collection at source provision to 1 April 2018 and suspended the reverse charge mechanism until the fiscal year-end.'''\n",
    "sent,count = 0.0,0\n",
    "sentList =sent_tokenize(doc)\n",
    "\n",
    "# Go through each sentence in document\n",
    "for sentence in sentList:\n",
    "        count += 1\n",
    "        ss = sid.polarity_scores(sentence)\n",
    "        sent += ss['compound']  # Tally up the overall sentiment\n",
    "\n",
    "if count != 0:\n",
    "        sent = float(sent / count)\n",
    "        \n",
    "print(sent)"
   ]
  },
  {
   "cell_type": "code",
   "execution_count": 33,
   "metadata": {
    "collapsed": true
   },
   "outputs": [
    {
     "name": "stdout",
     "output_type": "stream",
     "text": [
      "NEW DELHI: Five traffic policemen were suspended on Thursday after they were found taking bribes from truck drivers on Tuesday night on the pretext of checking their GST receipts.The policemen, including an assistant sub-inspector acting as a zonal officer, got caught when the traffic police received a complaint that at least five drivers were stopped near toll booths in west Delhi during a night patrol and asked to show the documents. When they couldn't, the cops took money from them as \"entry charge\".After one of the truck drivers recorded the incident and forwarded it to the WhatsApp number of the traffic police, senior officers took up the matter. The drivers from whom the \"fees\" were taken were questioned. \"We suspended three constables, a head constable and an assistant sub-inspector who were seen in the video footage. Departmental inquiries have been initiated against them,\" said Narendra Singh Bundela , joint commissioner, traffic.Officers said goods vehicles entering the city were supposed to carry the document receipt as a proof of payment of GST. The bar code on this receipt is scanned by tax officials at the post. Traffic police personnel are present at the posts to keep violations like overloading and speeding under check.Following the complaint, the traffic police has formed a special monitoring unit to keep an eye on their own personnel and will put up its helpline numbers at public places asking drivers to register a complaint on the phone or Facebook. Junior officers, usually out on the field, have been told to be careful.\"Teams will conduct surprise checks on personnel deployed on the borders. They will take feedback from truck drivers. Their activities will be monitored by a deputy commissioner of police,\" said Bundela.The police have also appealed to everybody to report, on its Facebook page and Twitter handle, any incident of overcharging by traffic personnel in the name of GST . \"Users can log into our social media handles to post videos and photographs of corrupt practices, which will be taken up,\" said a senior police officer.\n"
     ]
    }
   ],
   "source": [
    "file=open('1_all_article.txt',\"r\")\n",
    "para=file.read()\n",
    "l=para.split('\\n')\n",
    "print(l[3])"
   ]
  },
  {
   "cell_type": "code",
   "execution_count": null,
   "metadata": {
    "collapsed": true
   },
   "outputs": [],
   "source": []
  }
 ],
 "metadata": {
  "kernelspec": {
   "display_name": "Python 3",
   "language": "python",
   "name": "python3"
  },
  "language_info": {
   "codemirror_mode": {
    "name": "ipython",
    "version": 3
   },
   "file_extension": ".py",
   "mimetype": "text/x-python",
   "name": "python",
   "nbconvert_exporter": "python",
   "pygments_lexer": "ipython3",
   "version": "3.6.1"
  }
 },
 "nbformat": 4,
 "nbformat_minor": 2
}
