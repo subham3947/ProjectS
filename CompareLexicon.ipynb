{
 "cells": [
  {
   "cell_type": "code",
   "execution_count": 28,
   "metadata": {},
   "outputs": [],
   "source": [
    "sample_words = []\n",
    "lex = open(\"samplelexicon.txt\", \"r\",encoding=\"utf8\")\n",
    "lines=lex.readlines()\n",
    "lex.close()\n",
    "for line in lines:\n",
    "    w=line.split('\\t')[1]\n",
    "    #print(w)\n",
    "    \n",
    "    #print(i)\n",
    "    sample_words.append(w)"
   ]
  },
  {
   "cell_type": "code",
   "execution_count": 26,
   "metadata": {},
   "outputs": [],
   "source": [
    "imp_sample_words = []\n",
    "imp_lex = open(\"improvedsamplelexicon.txt\", \"r\",encoding=\"utf8\")\n",
    "lines=imp_lex.readlines()\n",
    "imp_lex.close()\n",
    "for line in lines:\n",
    "    w=line.split('\\t')[1]\n",
    "    #print(w)\n",
    "    #print(i)\n",
    "    imp_sample_words.append(w)"
   ]
  },
  {
   "cell_type": "code",
   "execution_count": 27,
   "metadata": {},
   "outputs": [],
   "source": [
    "for w in imp_sample_words:\n",
    "    try:\n",
    "        i=sample_words.index(w)\n",
    "    except:\n",
    "        #print(w)\n",
    "        continue"
   ]
  }
 ],
 "metadata": {
  "kernelspec": {
   "display_name": "Python 3",
   "language": "python",
   "name": "python3"
  },
  "language_info": {
   "codemirror_mode": {
    "name": "ipython",
    "version": 3
   },
   "file_extension": ".py",
   "mimetype": "text/x-python",
   "name": "python",
   "nbconvert_exporter": "python",
   "pygments_lexer": "ipython3",
   "version": "3.6.1"
  }
 },
 "nbformat": 4,
 "nbformat_minor": 2
}
