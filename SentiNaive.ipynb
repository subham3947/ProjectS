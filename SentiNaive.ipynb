{
 "cells": [
  {
   "cell_type": "code",
   "execution_count": 33,
   "metadata": {
    "collapsed": true
   },
   "outputs": [],
   "source": [
    "import nltk.classify.util\n",
    "from nltk.classify import NaiveBayesClassifier\n",
    "from nltk.corpus import movie_reviews\n",
    "from nltk.corpus import stopwords\n",
    "from nltk.tokenize import word_tokenize\n",
    "import random"
   ]
  },
  {
   "cell_type": "code",
   "execution_count": 34,
   "metadata": {
    "collapsed": true
   },
   "outputs": [],
   "source": [
    "def create_features(words):\n",
    "    useful_words=[word for word in words if word not in stopwords.words('english')]\n",
    "    feature_words=dict([(word,True)for word in useful_words])\n",
    "    return feature_words\n",
    "\n",
    "neg_reviews = []\n",
    "for fileid in movie_reviews.fileids('neg'):\n",
    "    words=movie_reviews.words(fileid)\n",
    "    neg_reviews.append((create_features(words), \"negative\"))\n",
    "pos_reviews = []\n",
    "for fileis in movie_reviews.fileids('pos'):\n",
    "    words=movie_reviews.words(fileid)\n",
    "    pos_reviews.append((create_features(words), \"positive\"))\n"
   ]
  },
  {
   "cell_type": "code",
   "execution_count": 12,
   "metadata": {},
   "outputs": [
    {
     "name": "stdout",
     "output_type": "stream",
     "text": [
      "({'two': True, 'party': True, 'guys': True, 'bob': True, 'heads': True, 'haddaway': True, \"'\": True, 'dance': True, 'hit': True, '\"': True, 'love': True, '?': True, 'getting': True, 'trouble': True, 'nightclub': True, '.': True, 'barely': True, 'enough': True, 'sustain': True, 'three': True, '-': True, 'minute': True, '_saturday_night_live_': True, 'skit': True, ',': True, '_snl_': True, 'producer': True, 'lorne': True, 'michaels': True, '_clueless_': True, 'creator': True, 'amy': True, 'heckerling': True, 'paramount': True, 'pictures': True, 'saw': True, 'something': True, 'late': True, 'night': True, 'television': True, 'institution': True, 'recurring': True, 'roxbury': True, 'sketch': True, 'would': True, 'presumably': True, 'make': True, 'good': True, 'feature': True, 'emphasis': True, 'word': True, '_a_night_at_the_roxbury_': True, 'takes': True, 'already': True, 'thin': True, 'concept': True, 'tediously': True, 'stretches': True, 'far': True, 'beyond': True, 'breaking': True, 'point': True, '--': True, 'viewers': True, 'patience': True, 'levels': True, 'first': True, 'five': True, 'minutes': True, '_roxbury_': True, 'play': True, 'much': True, 'like': True, 'one': True, 'original': True, 'skits': True, 'blaring': True, 'soundtrack': True, 'brotherly': True, 'duo': True, 'doug': True, 'steve': True, 'butabi': True, '(': True, 'chris': True, 'kattan': True, 'ferrell': True, ')': True, 'scope': True, 'hotties': True, 'clubs': True, 'bump': True, 'select': True, 'violent': True, 'pelvic': True, 'thrusts': True, 'crucial': True, 'difference': True, 'however': True, 'speak': True, 'little': True, 'fact': True, 'used': True, 'justification': True, 'film': True, 'existence': True, 'butabis': True, 'newfound': True, 'capacity': True, 'speech': True, 'open': True, 'whole': True, 'new': True, 'set': True, 'doors': True, 'characters': True, 'opened': True, 'director': True, 'john': True, 'fortenberry': True, 'screenwriters': True, 'koren': True, 'sure': True, 'lead': True, 'comic': True, 'dead': True, 'ends': True, 'story': True, 'per': True, 'se': True, 'loosely': True, 'structured': True, 'linked': True, 'series': True, 'subplots': True, 'brothers': True, 'literally': True, 'run': True, 'rather': True, 'get': True, 'car': True, 'richard': True, 'grieco': True, '_21_jump_street_': True, 'fame': True, 'gain': True, 'entrance': True, 'exclusive': True, 'club': True, 'meet': True, 'hotshot': True, 'owner': True, 'chazz': True, 'palminteri': True, 'conspicuously': True, 'uncredited': True, 'blame': True, 'interest': True, 'idea': True, 'meanwhile': True, 'bros': True, 'overbearing': True, 'father': True, 'dan': True, 'hedaya': True, 'wants': True, 'stop': True, 'clubbing': True, 'refuses': True, 'dimwitted': True, 'obeys': True, 'rift': True, 'created': True, 'narrative': True, 'messiness': True, 'forgivable': True, 'went': True, 'slightest': True, 'bit': True, 'funny': True, 'virtually': True, 'none': True, 'assembled': True, 'press': True, 'audience': True, 'mostly': True, 'sat': True, 'stonily': True, 'silent': True, 'throughout': True, 'entire': True, 'big': True, 'exception': True, 'laugh': True, 'near': True, 'end': True, 'alas': True, 'joke': True, 'lazy': True, 'takeoff': True, '_jerry_maguire_': True, 'strike': True, 'chord': True, 'people': True, 'seen': True, 'granted': True, 'lot': True, '_have_': True, 'best': True, 'completely': True, 'dependent': True, 'familiarity': True, 'another': True, 'says': True, 'lack': True, 'inspiration': True, 'traced': True, 'back': True, 'insipid': True, 'many': True, 'current': True, 'incarnation': True, 'never': True, 'suggests': True, 'life': True, 'survive': True, 'outside': True, 'context': True, 'watching': True, 'snl': True, 'come': True, 'away': True, ':': True, 'unsuspecting': True, 'women': True, 'left': True, 'exactly': True}, 'positive')\n"
     ]
    }
   ],
   "source": [
    "#first tokenized negative review \n",
    "print(neg_reviews[0])\n",
    "#first tokenized positive review\n",
    "print(pos_reviews[0])"
   ]
  },
  {
   "cell_type": "code",
   "execution_count": 46,
   "metadata": {
    "collapsed": true
   },
   "outputs": [],
   "source": [
    "#training set is first 750 reviews from both categories\n",
    "train_set = neg_reviews[:900] + pos_reviews[:900]\n",
    "#testing set is rest 250 reviews from both categories\n",
    "test_set =  neg_reviews[900:] + pos_reviews[900:]\n",
    "#shuffling to avoid bias\n"
   ]
  },
  {
   "cell_type": "code",
   "execution_count": 47,
   "metadata": {
    "collapsed": true
   },
   "outputs": [],
   "source": [
    "#Naive Bayes Classifier\n",
    "classifier=NaiveBayesClassifier.train(train_set)\n",
    "accuracy=nltk.classify.util.accuracy(classifier,test_set)\n"
   ]
  },
  {
   "cell_type": "code",
   "execution_count": 48,
   "metadata": {},
   "outputs": [
    {
     "data": {
      "text/plain": [
       "0.995"
      ]
     },
     "execution_count": 48,
     "metadata": {},
     "output_type": "execute_result"
    }
   ],
   "source": [
    "accuracy"
   ]
  },
  {
   "cell_type": "code",
   "execution_count": 50,
   "metadata": {},
   "outputs": [
    {
     "name": "stdout",
     "output_type": "stream",
     "text": [
      "{'Spirited': True, \"Away'\": True, 'is': True, 'the': True, 'first': True, 'Miyazaki': True, 'I': True, 'have': True, 'seen,': True, 'but': True, 'from': True, 'this': True, 'stupendous': True, 'film': True, 'can': True, 'tell': True, 'he': True, 'a': True, 'master': True, 'storyteller.': True, 'A': True, 'hallmark': True, 'of': True, 'good': True, 'storyteller': True, 'making': True, 'audience': True, 'empathise': True, 'or': True, 'pull': True, 'them': True, 'into': True, 'shoes': True, 'central': True, 'character.': True, 'does': True, 'brilliantly': True, 'in': True, \"'Spirited\": True, \"Away'.\": True, 'During': True, 'fifteen': True, 'minutes': True, 'we': True, 'no': True, 'idea': True, 'what': True, 'going': True, 'on.': True, 'Neither': True, 'main': True, 'character': True, 'Chihiro.': True, 'We': True, 'discover': True, 'world': True, 'as': True, 'Chihiro': True, 'and': True, \"it's\": True, 'truly': True, 'amazing': True, 'to': True, 'watch.': True, 'But': True, \"doesn't\": True, 'seem': True, 'treat': True, 'something': True, 'amazing.': True, 'The': True, 'filmed': True, 'just': True, 'like': True, 'our': True, 'workaday': True, 'would.': True, 'inhabitants': True, 'go': True, 'about': True, 'their': True, 'daily': True, 'business': True, 'usual': True, 'full': True, 'with': True, 'apathy': True, 'us': True, 'normal': True, 'folks.': True, 'Places': True, 'buildings': True, 'are': True, 'not': True, 'greeted': True, 'by': True, 'towering': True, 'establishing': True, 'shots': True, 'majestic': True, 'music.': True, 'fact': True, 'that': True, 'place': True, 'concern': True, 'Miyazaki.': True, 'What': True, 'do': True, 'however,': True, 'characters.': True, 'lingers': True, 'upon': True, 'characters': True, 'if': True, 'they': True, 'were': True, 'actors.': True, 'He': True, 'infixes': True, 'his': True, 'animated': True, 'actors': True, 'such': True, 'subtleties': True, 'never': True, 'even': True, 'animation': True, 'giants': True, 'Pixar.': True, 'Twenty': True, 'completely': True, 'forgot': True, 'these': True, 'characters;': True, 'started': True, 'care': True, 'for': True, 'living': True, 'breathing.': True, 'treats': True, 'modest': True, 'achievements': True, 'unashamed': True, 'bombast.': True, 'uplifting': True, 'scene': True, 'where': True, 'she': True, 'cleanses': True, 'River': True, 'God': True, 'accompanied': True, 'stirring': True, 'music': True, 'exciting': True, 'watching': True, 'gladiatorial': True, 'combatants': True, 'fight.': True, 'Of': True, 'course,': True, 'giving': True, 'developed': True, 'about,': True, 'action': True, 'conflicts': True, 'will': True, 'always': True, 'be': True, 'more': True, 'exciting,': True, 'terrifying': True, 'than': True, 'normal,': True, 'generic': True, 'scenes.': True}\n"
     ]
    },
    {
     "data": {
      "text/plain": [
       "'negative'"
      ]
     },
     "execution_count": 50,
     "metadata": {},
     "output_type": "execute_result"
    }
   ],
   "source": [
    "review_spirit = '''-'''\n",
    "featurized_doc = {c:True for c in review_spirit.split()}\n",
    "print(featurized_doc)\n",
    "classifier.classify(featurized_doc)\n",
    "#words = word_tokenize(review_spirit)\n",
    "#words = create_word_features(words)\n",
    "#classifier.classify(words)\n"
   ]
  },
  {
   "cell_type": "code",
   "execution_count": 1,
   "metadata": {
    "collapsed": true
   },
   "outputs": [],
   "source": [
    "import nltk\n",
    "import random\n",
    "import pickle\n",
    "from nltk.corpus import movie_reviews\n",
    "from os.path import exists\n",
    "from nltk.classify import apply_features\n",
    "from nltk.tokenize import word_tokenize, sent_tokenize\n",
    "\n",
    "documents = [(list(movie_reviews.words(fileid)), category)\n",
    "             for category in movie_reviews.categories()\n",
    "             for fileid in movie_reviews.fileids(category)]\n",
    "\n"
   ]
  },
  {
   "cell_type": "code",
   "execution_count": 2,
   "metadata": {
    "collapsed": true
   },
   "outputs": [],
   "source": [
    "all_words = []\n",
    "for w in movie_reviews.words():\n",
    "    all_words.append(w.lower())\n",
    "all_words = nltk.FreqDist(all_words)\n",
    "word_features = list(all_words.keys())\n",
    "#print(word_features)\n",
    "\n",
    "def find_features(document):\n",
    "    words = set(document)\n",
    "    features = {}\n",
    "    for w in word_features:\n",
    "        features[w] = (w in words)\n",
    "    return features\n",
    "\n"
   ]
  },
  {
   "cell_type": "code",
   "execution_count": 3,
   "metadata": {},
   "outputs": [
    {
     "name": "stdout",
     "output_type": "stream",
     "text": [
      "Most Informative Features\n",
      "               insulting = True              neg : pos    =     14.7 : 1.0\n",
      "                  avoids = True              pos : neg    =     14.6 : 1.0\n",
      "              astounding = True              pos : neg    =     14.6 : 1.0\n",
      "             fascination = True              pos : neg    =     13.7 : 1.0\n",
      "               ludicrous = True              neg : pos    =     12.3 : 1.0\n",
      "                   mulan = True              pos : neg    =     11.2 : 1.0\n",
      "                  annual = True              pos : neg    =     11.2 : 1.0\n",
      "                  hatred = True              pos : neg    =     11.2 : 1.0\n",
      "             outstanding = True              pos : neg    =     11.0 : 1.0\n",
      "             uninvolving = True              neg : pos    =     10.9 : 1.0\n",
      "                  seagal = True              neg : pos    =     10.9 : 1.0\n",
      "                 idiotic = True              neg : pos    =     10.7 : 1.0\n",
      "                 studies = True              pos : neg    =     10.4 : 1.0\n",
      "                thematic = True              pos : neg    =     10.4 : 1.0\n",
      "                seamless = True              pos : neg    =     10.4 : 1.0\n"
     ]
    }
   ],
   "source": [
    "featuresets = [(find_features(rev), category) for (rev, category) in documents]\n",
    "numtrain = int(len(documents) * 90 / 100)\n",
    "training_set = apply_features(find_features, documents[:numtrain])\n",
    "testing_set = apply_features(find_features, documents[numtrain:])\n",
    "\n",
    "classifier = nltk.NaiveBayesClassifier.train(training_set)\n",
    "classifier.show_most_informative_features(15)"
   ]
  },
  {
   "cell_type": "code",
   "execution_count": null,
   "metadata": {
    "collapsed": true
   },
   "outputs": [],
   "source": [
    "-"
   ]
  }
 ],
 "metadata": {
  "kernelspec": {
   "display_name": "Python 3",
   "language": "python",
   "name": "python3"
  },
  "language_info": {
   "codemirror_mode": {
    "name": "ipython",
    "version": 3
   },
   "file_extension": ".py",
   "mimetype": "text/x-python",
   "name": "python",
   "nbconvert_exporter": "python",
   "pygments_lexer": "ipython3",
   "version": "3.6.1"
  }
 },
 "nbformat": 4,
 "nbformat_minor": 2
}
