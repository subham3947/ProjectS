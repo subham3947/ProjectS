{
 "cells": [
  {
   "cell_type": "code",
   "execution_count": 1,
   "metadata": {},
   "outputs": [],
   "source": [
    "import nltk\n",
    "from nltk import word_tokenize,sent_tokenize,pos_tag\n",
    "from nltk.stem import WordNetLemmatizer\n",
    "from nltk.corpus import wordnet as wn\n",
    "from nltk.corpus import sentiwordnet as swn\n",
    "lemmatizer=WordNetLemmatizer()"
   ]
  },
  {
   "cell_type": "code",
   "execution_count": 2,
   "metadata": {},
   "outputs": [],
   "source": [
    "senti_words = []\n",
    "f=open(\"D:/Lex/SentiWordNet_3.0.0_20130122.txt\",\"r\",encoding=\"utf-8\") \n",
    "all_lines=f.readlines()\n",
    "for line in all_lines:\n",
    "    \n",
    "    w=line.split('\\t')[4]\n",
    "    #print(w)\n",
    "    i=w.index('#')\n",
    "    #print(i)\n",
    "    senti_words.append(w[:i])\n"
   ]
  },
  {
   "cell_type": "code",
   "execution_count": 515,
   "metadata": {},
   "outputs": [],
   "source": [
    "senti_words = []\n",
    "f=open(\"improvedsamplelexicon.txt\",\"r\",encoding=\"utf-8\") \n",
    "all_lines=f.readlines()\n",
    "for line in all_lines:\n",
    "    \n",
    "    w=line.split('\\t')[1]\n",
    "    senti_words.append(w)"
   ]
  },
  {
   "cell_type": "code",
   "execution_count": 492,
   "metadata": {},
   "outputs": [
    {
     "data": {
      "text/plain": [
       "4879"
      ]
     },
     "execution_count": 492,
     "metadata": {},
     "output_type": "execute_result"
    }
   ],
   "source": [
    "senti_words.index('durable')"
   ]
  },
  {
   "cell_type": "code",
   "execution_count": 493,
   "metadata": {},
   "outputs": [],
   "source": [
    "neg= {\"aint\", \"arent\", \"cannot\", \"cant\", \"couldnt\", \"darent\", \"didnt\", \"doesnt\",\n",
    " \"ain't\", \"aren't\", \"can't\", \"couldn't\", \"daren't\", \"didn't\", \"doesn't\",\n",
    " \"dont\", \"hadnt\", \"hasnt\", \"havent\", \"isnt\", \"mightnt\", \"mustnt\", \"neither\",\n",
    " \"don't\", \"hadn't\", \"hasn't\", \"haven't\", \"isn't\", \"mightn't\", \"mustn't\",\n",
    " \"neednt\", \"needn't\", \"never\",\"no\" \"none\", \"nope\", \"nor\", \"not\", \"nothing\", \"nowhere\",\n",
    " \"oughtnt\", \"shant\", \"shouldnt\", \"uhuh\", \"wasnt\", \"werent\",\n",
    " \"oughtn't\", \"shan't\", \"shouldn't\", \"uh-uh\", \"wasn't\", \"weren't\",\n",
    " \"without\", \"wont\", \"wouldnt\", \"won't\", \"wouldn't\", \"rarely\", \"seldom\", \"despite\",\"unfulfilled\"}"
   ]
  },
  {
   "cell_type": "code",
   "execution_count": 494,
   "metadata": {},
   "outputs": [],
   "source": [
    "boost={\"absolutely\":0.5, \"amazingly\":0.125, \"awfully\":0.25, \"completely\":0.25, \"considerably\":0.125,\n",
    " \"decidedly\":0.25 , \"deeply\":0.0 , \"enormously\":0.25 ,\n",
    " \"entirely\":0.5 , \"especially\":0.0   , \"exceptionally\":0.0   , \"extremely\":0.625   ,\n",
    " \"fabulously\":0.25   , \"flipping\":0.0   , \"flippin\":0.0   ,\n",
    " \"fricking\":0.0   , \"frickin\":0.0   , \"frigging\":0.0   , \"friggin\":0.0   , \"fully\":0.375   , \"fucking\":0.125   ,\n",
    " \"greatly\":0.125   , \"hella\":0.0   , \"highly\":0.5   , \"hugely\":0.25   , \"incredibly\":0.25   ,\n",
    " \"intensely\":0.0   , \"majorly\":0.625   , \"more\":0.0  , \"most\":0.0   , \"particularly\":0.125   ,\n",
    " \"purely\":0.0   , \"quite\":0.125   , \"really\":0.375  , \"remarkably\":0.125   ,\n",
    " \"so\":0.0   , \"substantially\":0.125   ,\n",
    " \"thoroughly\":0.625   , \"totally\":0.5   , \"tremendously\":-0.25   ,\n",
    " \"uber\":0.0   , \"unbelievably\":0.25   , \"unusually\":0.0   , \"utterly\":0.5   ,\n",
    " \"very\":0.25   ,\n",
    " \"almost\":0.0   , \"barely\":-0.375   , \"hardly\":-0.25, \"kind of\":0.0   , \"kinda\":0.0   , \"kindof\":0.0   , \"kind-of\":0.0   ,\n",
    " \"less\":-0.5   , \"little\":-0.375   , \"marginally\":-0.125   , \"occasionally\":0.0   , \"partly\":0.0   ,\n",
    " \"scarcely\":-0.25   , \"slightly\":-0.25   , \"somewhat\":-0.125, \"shoddy\":-0.625,\"poorly\":-0.75}"
   ]
  },
  {
   "cell_type": "code",
   "execution_count": 495,
   "metadata": {},
   "outputs": [],
   "source": [
    "def convert_tag(tag):\n",
    "    \n",
    "    if tag.startswith('J'):\n",
    "        return wn.ADJ\n",
    "    elif tag.startswith('N'):\n",
    "        return wn.NOUN\n",
    "    elif tag.startswith('R'):\n",
    "        return wn.ADV\n",
    "    elif tag.startswith('V'):\n",
    "        return wn.VERB\n",
    "    return None"
   ]
  },
  {
   "cell_type": "code",
   "execution_count": 496,
   "metadata": {},
   "outputs": [],
   "source": [
    "def find_sentiment(word,pos):\n",
    "    found=0\n",
    "    line_nos=[index for index, value in enumerate(senti_words) if value == word]\n",
    "    lines=[all_lines[lno] for lno in line_nos]\n",
    "    if len(lines)==0:\n",
    "        return None\n",
    "    for l in lines:\n",
    "        if l[0]==pos:\n",
    "            pos_score,neg_score=l.split('\\t')[2],l.split('\\t')[3]\n",
    "            found=1\n",
    "            break\n",
    "        else:\n",
    "            continue\n",
    "    if found==1:\n",
    "        return(float(pos_score)-float(neg_score))\n",
    "    else:\n",
    "        pos_score,neg_score=lines[0].split('\\t')[2],lines[0].split('\\t')[3]\n",
    "        return(float(pos_score)-float(neg_score))"
   ]
  },
  {
   "cell_type": "code",
   "execution_count": 497,
   "metadata": {},
   "outputs": [],
   "source": [
    "def get_sentiment(word,pos):\n",
    "    second_sent=find_sentiment(word,pos)\n",
    "    #print(word,second_sent)\n",
    "            \n",
    "    if second_sent is None:\n",
    "        lemma=lemmatizer.lemmatize(word,pos)\n",
    "        synsets = wn.synsets(lemma)\n",
    "        synset=synsets[0]\n",
    "        s=synset.name()\n",
    "        i=s.index('.')\n",
    "        second_sent=find_sentiment(s[:i],pos)\n",
    "        #print(word,synset.name(),second_sent)\n",
    "    return second_sent"
   ]
  },
  {
   "cell_type": "code",
   "execution_count": 508,
   "metadata": {},
   "outputs": [],
   "source": [
    "nouns=open('sent_nouns.txt','r',encoding='utf-8')\n",
    "nouns=nouns.read()\n",
    "nouns=nouns.split()\n",
    "not_found=set()"
   ]
  },
  {
   "cell_type": "code",
   "execution_count": 519,
   "metadata": {},
   "outputs": [],
   "source": [
    "tweet1='''The marginalization of the Tax Cheats which was expected post #GST will now happen in right earnest as #Ewaybill rolls out. Real benefits to most organized sector companies will be seen in FY2019'''\n",
    "tweet2='''From Failed #Demonetisation to Shoddy Implementation of #GST to poorly performing #Economy to unfulfilled Promise of reduction in fuel prices to not keeping the promises of providing 2 crores jobs, BJP has wrecked a nation & has broken people’s faith '''\n",
    "tweet3='''There is nothing wrong with #GST implementation but the fact is we are all losers. Injected to us by @INCIndia  Even God cannot change'''\n",
    "tweet4='''So, Indian businesses are mad against GST cause now they have to pay tax and earlier they weren't?'''\n",
    "tweet5='''#GST in india is total failure,it’s like nightmare for tax payers Indians..in my view it could be rolled out after #2019LSPolls after corrections ~ Dr Subramanian @Swamy39 Speaking at 14th Annual 🇮🇳India Business Conference on ‘Indian Growth @Columbia_Biz '''\n",
    "tweet6='''Demonetization + GST is the biggest reset Indian Economy has witnessed since 1991. Yes...disruptive, chaotic but was necessary  '''"
   ]
  },
  {
   "cell_type": "code",
   "execution_count": 520,
   "metadata": {},
   "outputs": [],
   "source": [
    "A=word_tokenize(tweet6.lower())\n",
    "bigrams=nltk.ngrams(A,2)"
   ]
  },
  {
   "cell_type": "code",
   "execution_count": 521,
   "metadata": {
    "scrolled": false
   },
   "outputs": [
    {
     "name": "stdout",
     "output_type": "stream",
     "text": [
      "[('demonetization', 'NN'), ('+', 'NN')]\n",
      "[('+', 'NN'), ('gst', 'NN')]\n",
      "[('gst', 'NN'), ('is', 'VBZ')]\n",
      "[('is', 'VBZ'), ('the', 'DT')]\n",
      "[('the', 'DT'), ('biggest', 'JJS')]\n",
      "Normal: [('the', 'DT'), ('biggest', 'JJS')] 0.25\n",
      "[('biggest', 'JJS'), ('reset', 'NN')]\n",
      "[('reset', 'NN'), ('indian', 'JJ')]\n",
      "Normal: [('reset', 'NN'), ('indian', 'JJ')] 0.25\n",
      "[('indian', 'JJ'), ('economy', 'NN')]\n",
      "[('economy', 'NN'), ('has', 'VBZ')]\n",
      "[('has', 'VBZ'), ('witnessed', 'VBN')]\n",
      "Normal: [('has', 'VBZ'), ('witnessed', 'VBN')] 0.25\n",
      "[('witnessed', 'VBN'), ('since', 'IN')]\n",
      "[('since', 'IN'), ('1991.', 'CD')]\n",
      "[('1991.', 'CD'), ('yes', 'NNS')]\n",
      "[('yes', 'NNS'), ('...', ':')]\n",
      "[('...', ':'), ('disruptive', 'NN')]\n",
      "[('disruptive', 'NN'), (',', ',')]\n",
      "[(',', ','), ('chaotic', 'JJ')]\n",
      "Normal: [(',', ','), ('chaotic', 'JJ')] 0.125\n",
      "[('chaotic', 'JJ'), ('but', 'CC')]\n",
      "[('but', 'CC'), ('was', 'VBD')]\n",
      "Not Found: was\n",
      "[('was', 'VBD'), ('necessary', 'JJ')]\n",
      "Normal: [('was', 'VBD'), ('necessary', 'JJ')] 0.25\n",
      "0.25\n"
     ]
    }
   ],
   "source": [
    "i=0\n",
    "not_found=set()\n",
    "score=0.0\n",
    "for b in bigrams:\n",
    "    i+=1\n",
    "    b_tag=pos_tag(b)\n",
    "    print(b_tag)\n",
    "    second_gram=b_tag[1]\n",
    "    first_gram=b_tag[0]\n",
    "    if second_gram[0] in nouns or second_gram[1].startswith('J') or second_gram[1].startswith('RBR') or second_gram[1].startswith('RBS') or second_gram[1].startswith('VBG') or second_gram[1].startswith('VBN') or second_gram[1].startswith('VBD'):\n",
    "    #if second_gram[0] in nouns or second_gram[1].startswith('J') or second_gram[1].startswith('RBR') or second_gram[1].startswith('RBS') or second_gram[1].startswith('VB'):\n",
    "        pos=convert_tag(second_gram[1])\n",
    "        \n",
    "        if first_gram[0] in boost:\n",
    "                score+=boost[first_gram[0]]+get_sentiment(second_gram[0],pos)\n",
    "                print('Boost:',b_tag,score)\n",
    "            \n",
    "   \n",
    "        if first_gram[0] in neg:\n",
    "                score+=-(get_sentiment(second_gram[0],pos))\n",
    "                print('Neg:',b_tag,score)\n",
    "            \n",
    "        elif first_gram[0] not in neg and first_gram[0] not in boost:\n",
    "            try:\n",
    "                score+=get_sentiment(second_gram[0],pos)\n",
    "                print('Normal:',b_tag,score)\n",
    "            except:\n",
    "                print(\"Not Found:\",second_gram[0])\n",
    "                not_found.add(second_gram[0])\n",
    "    \n",
    "print(score)\n",
    "\n",
    "           "
   ]
  },
  {
   "cell_type": "code",
   "execution_count": 482,
   "metadata": {},
   "outputs": [],
   "source": [
    "punctuations = '''!@'#'''\n",
    "def clean_tweet(t):\n",
    "    for c in punctuations:\n",
    "             t= t.replace(c,\"\")\n",
    "    print(t)\n",
    "    "
   ]
  },
  {
   "cell_type": "code",
   "execution_count": 480,
   "metadata": {},
   "outputs": [
    {
     "name": "stdout",
     "output_type": "stream",
     "text": [
      "Cant narendramodi govt spare Khadi,clean fabric & the symbol of India freedom struggle out of GST? \n"
     ]
    }
   ],
   "source": [
    "clean_tweet('''Can't @narendramodi govt spare #Khadi,clean fabric & the symbol of India' freedom struggle out of #GST? ''')"
   ]
  },
  {
   "cell_type": "code",
   "execution_count": 464,
   "metadata": {},
   "outputs": [],
   "source": [
    "def check(bigrams):\n",
    "    score=0.0\n",
    "    for b in bigrams:\n",
    "        b_tag=pos_tag(b)\n",
    "        #print(b_tag)\n",
    "        second_gram=b_tag[1]\n",
    "        first_gram=b_tag[0]\n",
    "        if second_gram[0] in nouns or second_gram[1].startswith('J') or second_gram[1].startswith('RBR') or second_gram[1].startswith('RBS') or second_gram[1].startswith('VBG') or second_gram[1].startswith('VBN'):\n",
    "            pos=convert_tag(second_gram[1])\n",
    "        \n",
    "            if first_gram[0] in boost:\n",
    "                    score+=boost[first_gram[0]]+get_sentiment(second_gram[0],pos)\n",
    "                    #print('Boost:',b_tag,score)\n",
    "            \n",
    "   \n",
    "            if first_gram[0] in neg:\n",
    "                    score+=-(get_sentiment(second_gram[0],pos))\n",
    "                    #print('Neg:',b_tag,score)\n",
    "            \n",
    "            elif first_gram[0] not in neg and first_gram[0] not in boost:\n",
    "                try:\n",
    "                    score+=get_sentiment(second_gram[0],pos)\n",
    "                    #print('Normal:',b_tag,score)\n",
    "                except:\n",
    "                    #print(\"Not Found:\",second_gram[0])\n",
    "                    not_found.add(second_gram[0])\n",
    "    return score\n",
    "    \n",
    "    "
   ]
  },
  {
   "cell_type": "code",
   "execution_count": 483,
   "metadata": {},
   "outputs": [
    {
     "name": "stdout",
     "output_type": "stream",
     "text": [
      "I think GST adoption will be smoother than expected-will go more like Y2k hoax & not like demonet pain-thks 2 govt, Indian enterprise both\n",
      "Mandatory GST receipt post, 😝 of my very first \"Satsanga\" after GST roll out. Cheers \n",
      "Shocking Even after paying 18% GST I am still paying less than my usual bill which I used to. Is this the ache din modi promised ? \n",
      "GST Network is capable of handling 1.2 lakh transactions every sec & 320cr every month.It can handle 60000 users at same time every second. \n",
      "An historic day in the chapter of Economic Reforms for India.  Tax One Nation is a revolutionary step GST GoodAndSimpleTax.\n",
      "Theres no doubt GST will boost GDP, says Narayana Murthy\n",
      "If you want to understand GST ... watch Republic... If you want to see how GST has created Emergency like situation... watch NDTV\n",
      "GSTs simplicity will ensure greater tax compliance. More compliance = more money to govt for infrastructure creation. GST\n",
      "GST - it is good, it is simple and it benefits 125 crore Indians.\n",
      "Arun Shourie: GST is just a tax and this government is putting it at par with the independence of India\n",
      "Small traders,Farmers,business,unorg sector badly affected by Demonetisation..Now GST further affects economy..And No Jobs MrPMOIndia .\n",
      "Auto industry set to see accelerated growth after GST implementation .\n",
      "GST to create up to 1 lakh new jobs, says Infosys co founder Kris Gopalakrishnan.\n",
      "Massive protests of textile sector in Surat are continuing since the introduction of GST.Protesters are demanding RollbackGST on textiles.\n",
      "Sanitarynapkins will attract 12 percent GST , a shade lower than 13.7 percent in the previous indirect tax regime.\n",
      "Simmering discontent against BJP4India in Patel-dominated diamond hub Surat over GST GujaratPollTalk htTweets.\n",
      "Questions about economy, GST are drowned in the din on showier issues.\n",
      "Price to drop soon for Lenovo, Motorola handsets sold offline. This is 18th slap on INCIndia  All going cheap GST\n",
      "It is totally an insensitive decision, which is not in the interest of people.. GST\n",
      "Actually, I agree. Delete those words from our lives Lets talk jobs,  demonetization , GST instead? \n",
      "GST is neither a page-turner nor a gripping thriller video. It is painful to understand & difficult to digest\n",
      "In India, 70% of women say that their families cannot afford to buy sanitary pads. GST \n",
      "Very good beginning for GST with a few sectors experiencing reduction of prices in the past few days. \n",
      "From industry perspective, Central govts pace of change has been remarkable & GST has unified the country. \n",
      "Read our latest blog to know how we believe GST will impact service providers in India. \n",
      "To protest GST, Kerala SFI activists send sanitary pads to Arun Jaitley.\n",
      "Questions about economy, GST are drowned in the din on showier issues.\n",
      "VAT+ ST + Central Excise ➡️ GST askGST_GoI adhia03  OneNationOneTax GST GSTForNewIndia GSTSimplified Good and Simple Tax arunjaitley.\n",
      "GST will be 0% on your smile.So keep smiling always.\n",
      "Very well explained issue of GST on sanitary napkin MinistryWCD .Govt making huge efforts 4 smooth implementation of GST  askGST_GoI.\n",
      "kamalhaasan DrKamalHassan Speaks about GST and Entertainment Tax ikamalhaasan UNKHOurPride kamal_fanclub.\n",
      "Holy Golden Temple serves langar food to 1Lac people everyday/365 days; post GST it will incur addl liability of Rs10crore on langar.\n",
      "If you want to know the advantages of GST, listen to PM Modi.And if you want to know the disadvantages listen to CM Modi.\n",
      "GST complexities and high tax slabs is really killing small-businesses in India. It only aims at ultimately benefitting the big businessmen.\n",
      "Consumers complain of retailers charging excess under name of GST. Tax officials working to address the issues.\n",
      "GST has failed. \n",
      "Had fruitful interactive session on GST with stakeholders which included industrialists,Hoteliers and traders at Parwanoo Himachal Pradesh.\n",
      "Smt. nsitharaman & CBEC_India officials attended  the GST outreach programme at Mysuru and addressed the concerns of the stakeholders.\n",
      "In Mysuru, on GST with industry representatives, CAs, traders & exports. With me GST Commissioner Shri Krishna Rao & his team.\n",
      "If a nation wants to attract investment & drive growth, one important action is taxreform. GST EconomicTimes.\n",
      "SFI activists post sanitary pads to Finance Minister arunjaitley , demands roll back of 12% GST on pads.\n",
      "Should Lawyers, Law Firms come under GST ? Delhi High Court Asks Government to Clarify.\n",
      "From DeMonetisation to GST.Consumer Price Index- LOW.Industrial Output- LOW.Employment Rate- LOW.\n",
      "Traders hit the streets in Gujarat in protest against Goods and Services Tax \n",
      "So much for MakeInIndia  ... After GST  its looking more and more like TakeInIndia  and for businesses its BreakInIndia\n",
      "A critical reform that will drive economic growth \n",
      "Surat textile industry strike against GST enters third week. Talks fail with the government. \n",
      "If they r not going to vote out BJP4India from Gujarat then this protest is meaningless & useless. Ur Vote should depict ur protest. GST\n",
      "GST: HP hikes prices of multifunction printers, cartridges by up to 15%.\n",
      "In GST regime, illegal transport of goods has completely stopped and there is hardly any queue at border check posts IRS_IN CBEC_India.\n",
      "GST is too much complex to be understood by a small businessman.\n",
      "Cigarette cess hike is rude awakening for those who bought myth that taxation will be predictable, stable in GST regime. ITC stock down 12%.\n",
      "GST:Govt hiking taxes on cigarettes .If you have to burn your lungs you have to empty your pocket too. This is good now. HealthyNewINDIA\n",
      "Indian Real estate is witnessing huge funds inflow post RERA & GST. This is huge for cement, steel & other Infra companies plus jobs.\n",
      "Delhi High Court notice to government on plea against 12% GST on sanitary napkins \n",
      "\"Stand in queue to exchange old notes, Aadhaar your posterior and enroll for GST\" in the streets.\"Suit boot ki sarkar\" in the sheets. Karthik added,\n",
      "Raising cess & tax on ALL tobacco products will boost publichealth & ⬆️ progress towards NHP & SDGs | NoTobacco GST cigarettes NCDs\n",
      "GST warp and weft in Surat saris\n",
      "Transition to GST was swift and smooth starting from Day 1, the company said.\n",
      "India has finally introduced the goods and services tax (GST) that is going to facilitate the creation of ‘one nation, one tax, one market’.\n",
      "GST implementation changing the way biz is done in India-for the good of country.Article in EconomicTimes by walmartindia CEO iyerkrish\n",
      "GST impact: Trucks save 8 hrs on Chennai-Delhi run - \n",
      "ModiKe3SaalBemisaal.Electricity is reaching most of villages but because of GST (not luxury) wires have become expensive.Poor cant afford\n",
      "U know u r abt to witness GST_Mess when a common citizen is forced to pay 28% GST on BANANAS.\n",
      "Film production already has enough soul crushing hurdles. This is a nail in the coffin. Depressing indeed\n",
      "Three before-and-after GST bill-for-bill comparisons are posted before this tweet. Looks like were in for quite a ride.\n",
      "One of the most significant reforms of Indian economy.\n",
      "A Reform Win for Modi: Indias new GST is far from perfect, but it should still be applauded.\n",
      "The fact that Jaitley and Naidu have to say that on repeat mode means that ppl r nt just unhappy but also angry with bjp s Version of\n",
      "Its high time to take some bold decisions for the greater good. We citizens are ready to take temporary pains for permanent solutions.\n",
      "GST  impact: Good news for farmers, tax rate on fertilisers reduced from 12% to 5%.\n",
      "GST to boost GDP; positive for rating: Moodys\n",
      "It is now clarified that there are no 3 returns per month in GST. Instead we hv to file 1 Returns 3 times every month per location\n",
      "I think GST adoption will be smoother than expected-will go more like Y2k hoax & not like demonet pain-thks 2 govt, Indian enterprise both\n",
      "Some BURNOL 4 those who say GST is a scam sharadknp Bunibroto tathagata2 devworld24 ravi_saraogi kush07\n",
      "Apple iOS users, now post GST price check of all drugs in your hand; never pay extra for your medicines \n",
      "Why r petrol & diesel not brought to GST Scope yet. Read that petro ministry planned 18% GST which saves common man from current 50% taxes\n",
      "GST effect OfficeOfRG Jeep slashes prices of its cars by up to Rs 18.49 lakh\n",
      "In first 15 days tax collection under GST raised by 11%,👏👏now we understand y some businesmans were opposing the GST bill.\n",
      "GST:  30% reduction in Rakhi prices \n",
      "GST impact: Effective coal prices reduce by 2-3% for power sector consumers \n",
      "GST ushers hotels, restaurants to slash rates by 5-10 per cent\n",
      "Thousands of ssi tiny industrys Dying due to Abnormal GST. Tax danger of ssi owners become beggers\n",
      "Demonetisation was a disaster but GST a good move, says Rahul Bajaj \n",
      "GST Effect: Prices of Amul products slashes, relief to the consumers. \n",
      "The organized plywood industry in India is poised to be a big beneficiary of GSTValueMigration\n",
      "Developers charging addnl 12% GST to buyers of UC flats without giving any benefit of Input credit tax. No fear of law (anti profiteering)\n",
      "Hotel industry taking undue advantage of GST it seems:  either they were not paying tax before & profiteering now\n",
      "Thank you Dakshinayan for the transparency. Everything on the menu is cheaper post GST ✌️ \n",
      "3 weeks after the introduction of GSTForNewIndia 78% Indians are happy with GST \n",
      "I have recharged my vodafone with 50rs n got only 39 rs just because of GST . Its not fair narendramodi ji. 🙄\n",
      "The distance travelled by trucks per day has increased by at least 30% post the rollout of GST\n",
      "As far as I remember,we have to pay 6% service tax + 14.5% VAT in any decent Restaurant in Kolkata. Now We r paying 18% GST instead of 20.5% \n",
      "GST Wont Impact Growing Smartphone Market: GfK\n",
      "Sweet makers find GST a tough nut to crack\n",
      "Trucks covers 30% more distance due to end of check-posts post GST bringing overall freight rates down by 12% \n",
      "GST impact: Small grocers shift away from unorganised trade, sign up with wholesale majors \n",
      "Before GST No tax on manufacturing of fabric but now its 18%.And on job work before GST 1or2% but now its 18.Think thats perfect example \n",
      "GST a game-changer for Indian economy; will benefit consumer durables industry; find out how NewsToKnow\n",
      "With GST, it’s cheaper to eat snacks at counters than air-conditioned restaurants \n",
      "GST: A Critical Reform That Will Drive Economic Growth - rasheshshah,Chairman and CEO, Edelweiss Group\n",
      "Cheaper to eat sweets at shop counter than seated at table  via TOIBusiness \n",
      "GST impact: Over 25% of trucks idle amid drop in interstate movement. Retail freight charges as low as in 1990 GST \n",
      "GST Impact On Logistics: Trucks Now Cover 30 Per Cent More Distance Per Day \n",
      "Demonetization + GST is the biggest reset Indian Economy has witnessed since 1991. Yes...disruptive, chaotic but was necessary\n",
      "Investments will pick up due to govt spending, note ban, GST : AjayPiramal \n",
      "Wah. The poorest take the the burden of tax reforms. Ragpickers hit hard by GST. \n",
      "Logistics sector should witness reduction in operating costs & quicker delivery times. Thanks to checkpost less GST\n",
      "Taxes on glass waste and scrap materials: The adverse GST impact on waste collectors.\n",
      "Ambiguous rules under the new, multi-rate sales tax have left firms confused on how to price their products.  GST\n",
      "Indian Smartphone Market Contracts for First Time on GST Fears: Canalys\n",
      "Nearly a month under GST, businesses still unclear about tax rules \n",
      "Indian businesses blindsided by unclear GST rules \n",
      "GST impact: Pay more for illegal parking in Mumbai\n",
      "One month of GST: Doing business more complicated than ever \n",
      "BRICS heads of revenue sign tax cooperation pact; hail Indias GST\n",
      "Worst possible impact of GST is that food prices increased and portions gone down. Irony is most food raw materials outside GST.\n",
      "GST - Same old story. Hits the common man while providing windfall gains for the Corporates \n",
      "Demonetisation & GST regulation will propel India to lead from the front amongst other Asian countries~arjunrammeghwal digitalIndia\n",
      "GST impact - Sensex touched new height and first time nifty crossed 10,000 mark. Businessmans happily accepting reforms of narendramodi .\n",
      "BRICS Meeting: GST lauded by heads of revenue in China \n",
      "GST has made manufacturing condoms in India more expensive and exposed the country to low-quality imports. health\n",
      "Such high GST on flats is insane..Today an basic 1 BHK in Mumbai costs 1Cr..Thats inhuman.. Plain Torture.. Dev_Fadnavis arunjaitle\n",
      "Cloth markets in Gujarat remain shut in protest of 5% GST - Livemint\n",
      "Dare to dream India ...the GST is a leap of faith.\n",
      "Same liberal chatteratiR experts on history on day 1, GST on 2nd & Bihar politics on 3rd,Hinduism on 4th, Nuclear power on 5th....Respect \n",
      "When tolls in Haryana would be stopped by mlkhattar Govt where collections is going on unhindered or GST isnt applicable here like RERA\n",
      "GST may help Indian economy save up to Rs 2300 crore at check posts  \n",
      "After GST These 101 Items Price In Kerala Will Decrease\n",
      "One of Indias most ambitious economic reform plans..so proud its powered by sapcp Integration SAPForGST GST \n",
      "Congratulations to Indian Govt for the GST initiative and to SAPIndia for supporting SMEs through training and tech SAPForGST\n",
      "The little DeMonetisation left undone GST will complete. Did Modi take an oath to finish off India? Tax upon tax\n",
      "Now that GST is underway I request PM narendramodi to bring in OneNationOneEducation system with emphasis on Indian culture & greatness.\n",
      "Demonetisation didnt deliver, infact it got aborted b4 nine months.Another labour pain GST in less than 9 mnths?\n",
      "Èven in high income countries life insurance & health insurance premiums dont attract GSTForCommonMan.Then why torment us with GST ?\n",
      "Octroi is no more in India.Congratulations to narendramodi Sir for the implementation of this biggest tax reform GST\n",
      "GST has transformed the economy. MannKiBaat narendramodi PMOIndia.\n",
      "Thanks to GST my monthly provision got 12% hike for the same items of last month.Even my salary wont get that much hike.\n",
      "PM claims GST hs brought Gr8 Chang in our economy.Evidence in Mumbai is daily sales of most shops gone dn by 40%.Traders r broke all over.\n",
      "With a giant sanitary pad replica, students and NGOs in Chennai protest 12% GST on napkins .\n",
      "GST effect ...Surat ... Indias largest cloth market is shut for the past 2 days ..  strange how well the Govt has downplayed this news \n",
      "Dined with a leading businessman whos among PMOIndias top cheerleaders. Hes convinced that multiple GST slabs will dent competitiveness\n",
      "GST is great news for farmers.Tax rate on fertilisers reduced from 12% to 5%.Indian farmers will save Rs.1261 crores after GST.\n",
      "Glad to know that central ministry has reviewed our request on reconsidering to reduce the GST on wheel chair and similar equipments.\n",
      "Much needed reform GST gets rolling. Unnecessarily complicated. Many bumps ahead Hopefully we will eventually blunder into brilliance \n",
      "Disheartening 2 c d common people n our industry(Many films lik Ivan thandhiran)struggling alike.Hope d govt steps in 2 provide relief GST\n",
      "Already 22 states in India have abolished check posts after GST.We should see a huge decrease in fuel wastage and goods transport time.\n",
      "Excellent move by Govt to make sure consumers are informed old prices and new ones.must say they are closely monitoring everything. GST\n",
      "J&K opposition leaders cant accept OneNationOneTax ideology of GST because it weakens their argument that theyre a seperate entity\n",
      "We should cook food at home as GST implies even LPG rates are hiked What Shall we do now? GSTForCommonMan GST \n",
      "First Look is Ready Will be on Air As soon as GST Issues Sorted Out  Most Probably By Next week.\n",
      "Hello Mr Engr Rashid,GST Bill passed in J&K Assembly.\n",
      "Few traitors like U cant bend a Nation. J&K was/is/will b integral part of India.\n",
      "Huge discomfort surfacing vividly for _sabanaqvi unable to swallow & digest d response of d Traders to Demonetisation & GST mediacrooks\n",
      "Victory for narendramodi & India GST Bill passed in J&K Assembly.Whole country under GST now. One Nation One Tax\n",
      "I congratulate J&K Chief Minister Smt MehboobaMufti for implementing GST in the State of Jammu & Kashmir.\n",
      "To implement GST in Jammu & Kashmir against the wishes of the people, the allegedly PDP-led Govt. can cage entire populace to kill dissent.\n",
      "Proud to be partners in this historic movement GST  tech_mahindra runs the entire tech support Contact Center \n",
      "Jyzia on Amaranth and Vaishno Devi Yatra abolished in Jammu and Kashmir.Thanks GST .\n",
      "GST is a good & simple tax. I congratulate narendramodi ji & arunjaitley for implementing it GST\n",
      "\"Jugaad\" excesses abound, states reinstating old taxes as \"city levies\". GST Council must fall like ton of bricks on this. \n",
      "It will take sometime 4 things 2 comeback 2 normal after GST & ticket hike. Need urgently good content 2 bring back audiences 2 screens.\n",
      "Finally they were able to get something in line with AoA . JK to retain special powers under state constitution GST jkpdp\n",
      "Colgate-Palmolive dropped prices on toothpastes and toothbrushes by 8-9% following tax reductions in GST regime.\n",
      "GST implementation triggered widespread price inflation. CM urged MPs to exert pressure on the Centre to protect the ConsumerRights.\n",
      "Cant narendramodi govt spare Khadi,clean fabric & the symbol of India freedom struggle out of GST? \n",
      "Why should I pay ₹120 fr movie ticket + 28% GST seperately DaylightRobbery.\n",
      "This theaters tickets loot in the name of GST should stop...the drama by theater owners was to increase the ticket rates & fleece public.\n",
      "With GST, India heading towards a transparent tax regime.\n",
      "Textile traders protesting against GST in Surat.\n",
      "A week of GST. Been travelling but I get sense no major disruption. Not the disaster some folks were saying it would be. Am I rite?\n",
      "Textile industry of Surat rally against GST .\n",
      "My phone rates are up 3%, restaurant bill 10%, movie bill by (no idea how much but up), water can by Rs.5. Where are the benefits of GST?\n",
      "Huge Crowds On The Roads Of Most Developed indian State \"Gujarat\" In Protest Of Legalise Loot Via GST, Why No Media coverage?\n",
      "DeMonetisation s catastrophic effect failed2open ppls eyes.But I hope GST 4d rich,by the rich& of the rich will .\n",
      "Supercars and ultra-luxury cars cheaper by over a crore after GST .\n",
      "This shows how common people SME traders are coming out against  the govt & GST .A clip of  textile sector protest in Surat GujaratShaktisinh Gohil added,\n",
      "This is how all Textile Traders of Surat are protesting against GST and given a strong message to Government to withdraw GST on textiles. \n",
      "In GST era, more income for software vendors, new jobs for BCom graduates\n",
      "Lucknow University first institute in UP to start GST course.4\n",
      "\"New inspector raj threatens to cut short Indias GST party, states may play spoilsport too\" via EconomicTimes.\n",
      "GST Kitemaker Inam Ali in Bareilly seek gains for aam aadmi with its implementation.\n",
      "Meditation is a little hard to understand. But if you start doing it...you start enjoying it. GST works the same way.\n",
      "temporary teething troubles of GST need special attention. especially in textile sector which has the second highest employment.cc:adhia03\n",
      "A serve of GST to garnish your service tax anyone? Indias new tax system irks diners. This pic posted in a foodie fb grp \n",
      "With GST coming in, prices of luxury vehicles have been reduced, by as much as 10% in some cases (by Bharati09)\n",
      "rbi analysis is not accurate - GST will not alter the aggregated capability of states to service debt.\n",
      "State levies and new inspector raj may spoil GST party  via economictimes PMOIndia arunjaitley this is ridiculous\n",
      "Tractor industry welcomes GST rate cut from 28% to 18% on machine parts, itll be beneficial to agriculture sector.\n",
      "GST is killing... now we need to starve. Plz reset gst like on vegetables, rice and so on...\n",
      "Now, GST leaves homestays baffled .\n"
     ]
    },
    {
     "data": {
      "text/plain": [
       "'\\nfor t in tw:\\n    score=0.0\\n    tok_tweet=word_tokenize(clean_tweet(t.lower()))\\n    bigrams=nltk.ngrams(tok_tweet,2)\\n    score=check(bigrams)\\n    rw.write(str(t)+\"  :\"+str(score)+\"\\n\")\\nfw.close()\\nrw.close()\\n\\n'"
      ]
     },
     "execution_count": 483,
     "metadata": {},
     "output_type": "execute_result"
    }
   ],
   "source": [
    "fw=open(\"tweets.txt\",\"r\",encoding=\"utf-8\")\n",
    "rw=open(\"tweet_result.txt\",\"a\",encoding='utf-8')\n",
    "tw=fw.read().split('\\n')\n",
    "for t in tw:\n",
    "    clean_tweet(t)\n",
    "'''\n",
    "for t in tw:\n",
    "    score=0.0\n",
    "    tok_tweet=word_tokenize(clean_tweet(t.lower()))\n",
    "    bigrams=nltk.ngrams(tok_tweet,2)\n",
    "    score=check(bigrams)\n",
    "    rw.write(str(t)+\"  :\"+str(score)+\"\\n\")\n",
    "fw.close()\n",
    "rw.close()\n",
    "\n",
    "'''\n"
   ]
  },
  {
   "cell_type": "code",
   "execution_count": 484,
   "metadata": {},
   "outputs": [],
   "source": [
    "wfile=open('not_found.txt','a',encoding='utf-8')\n",
    "for n in not_found:\n",
    "    wfile.write(n+\"\\n\")\n",
    "    i+=1\n",
    "wfile.close()"
   ]
  },
  {
   "cell_type": "code",
   "execution_count": 163,
   "metadata": {},
   "outputs": [
    {
     "data": {
      "text/plain": [
       "{'clarified'}"
      ]
     },
     "execution_count": 163,
     "metadata": {},
     "output_type": "execute_result"
    }
   ],
   "source": [
    "not_found"
   ]
  },
  {
   "cell_type": "code",
   "execution_count": 442,
   "metadata": {
    "scrolled": true
   },
   "outputs": [
    {
     "name": "stdout",
     "output_type": "stream",
     "text": [
      "0.0\n",
      "0.0\n"
     ]
    }
   ],
   "source": [
    "word='loot'\n",
    "lemma = lemmatizer.lemmatize(word)            \n",
    "synsets = wn.synsets(lemma)\n",
    "synset = synsets[0]\n",
    "swn_synset = swn.senti_synset(synset.name())\n",
    "print(swn_synset.pos_score()) \n",
    "print(swn_synset.neg_score())"
   ]
  },
  {
   "cell_type": "code",
   "execution_count": 443,
   "metadata": {},
   "outputs": [
    {
     "data": {
      "text/plain": [
       "'loot'"
      ]
     },
     "execution_count": 443,
     "metadata": {},
     "output_type": "execute_result"
    }
   ],
   "source": [
    "lemma"
   ]
  },
  {
   "cell_type": "code",
   "execution_count": 444,
   "metadata": {},
   "outputs": [
    {
     "data": {
      "text/plain": [
       "'loot'"
      ]
     },
     "execution_count": 444,
     "metadata": {},
     "output_type": "execute_result"
    }
   ],
   "source": [
    "s=synset.name()\n",
    "i=s.index('.')\n",
    "s[:i]"
   ]
  },
  {
   "cell_type": "code",
   "execution_count": 445,
   "metadata": {},
   "outputs": [],
   "source": [
    "if word in senti_words:\n",
    "    line_nos=[index+1 for index, value in enumerate(senti_words) if value == word]\n",
    "    line_no=all_lines[senti_words.index(word)]\n",
    "    pos_score,neg_score=line_no.split('\\t')[2],line_no.split('\\t')[3]\n",
    "            \n",
    "\n",
    "elif lemma in senti_words: \n",
    "    line_no=lines[senti_words.index(lemma)]\n",
    "    pos_score,neg_score=line_no.split('\\t')[2],line_no.split('\\t')[3]\n",
    "    "
   ]
  },
  {
   "cell_type": "code",
   "execution_count": 250,
   "metadata": {},
   "outputs": [
    {
     "data": {
      "text/plain": [
       "[14272]"
      ]
     },
     "execution_count": 250,
     "metadata": {},
     "output_type": "execute_result"
    }
   ],
   "source": [
    "[index+1 for index, value in enumerate(senti_words) if value == 'mad']"
   ]
  },
  {
   "cell_type": "code",
   "execution_count": 252,
   "metadata": {},
   "outputs": [
    {
     "data": {
      "text/plain": [
       "'a\\t02572038\\t0.375\\t0.25\\tmad#4 insane#2 harebrained#1\\tvery foolish; \"harebrained ideas\"; \"took insane risks behind the wheel\"; \"a completely mad scheme to build a bridge between two mountains\"\\n'"
      ]
     },
     "execution_count": 252,
     "metadata": {},
     "output_type": "execute_result"
    }
   ],
   "source": [
    "line_no"
   ]
  },
  {
   "cell_type": "code",
   "execution_count": 523,
   "metadata": {},
   "outputs": [
    {
     "data": {
      "text/plain": [
       "[('demonetization', 'NN'),\n",
       " ('+', 'NNP'),\n",
       " ('gst', 'NN'),\n",
       " ('is', 'VBZ'),\n",
       " ('the', 'DT'),\n",
       " ('biggest', 'JJS'),\n",
       " ('reset', 'NN'),\n",
       " ('indian', 'JJ'),\n",
       " ('economy', 'NN'),\n",
       " ('has', 'VBZ'),\n",
       " ('witnessed', 'VBN'),\n",
       " ('since', 'IN'),\n",
       " ('1991.', 'CD'),\n",
       " ('yes', 'NNS'),\n",
       " ('...', ':'),\n",
       " ('disruptive', 'NN'),\n",
       " (',', ','),\n",
       " ('chaotic', 'JJ'),\n",
       " ('but', 'CC'),\n",
       " ('was', 'VBD'),\n",
       " ('necessary', 'JJ')]"
      ]
     },
     "execution_count": 523,
     "metadata": {},
     "output_type": "execute_result"
    }
   ],
   "source": [
    "a='''Demonetization + GST is the biggest reset Indian Economy has witnessed since 1991. Yes...disruptive, chaotic but was necessary '''\n",
    "a=word_tokenize(a.lower())\n",
    "\n",
    "pos_tag(a)"
   ]
  },
  {
   "cell_type": "code",
   "execution_count": null,
   "metadata": {},
   "outputs": [],
   "source": []
  }
 ],
 "metadata": {
  "kernelspec": {
   "display_name": "Python 3",
   "language": "python",
   "name": "python3"
  },
  "language_info": {
   "codemirror_mode": {
    "name": "ipython",
    "version": 3
   },
   "file_extension": ".py",
   "mimetype": "text/x-python",
   "name": "python",
   "nbconvert_exporter": "python",
   "pygments_lexer": "ipython3",
   "version": "3.6.3"
  }
 },
 "nbformat": 4,
 "nbformat_minor": 2
}
